{
 "cells": [
  {
   "cell_type": "code",
   "execution_count": 3,
   "id": "9be10ed2-0c00-479f-9b7c-2fcee593d489",
   "metadata": {},
   "outputs": [],
   "source": [
    "#这个文件的作用是用Allen 研究所中的电生理特征提取方法，调整了reboud只计算第1条增加至1到current=0\n",
    "import sys\n",
    "import pandas as pd\n",
    "from fp_extractor_visuialization_modified import extract_spike_features\n",
    "from fp_extractor_visuialization_modified import get_cell_features\n",
    "import matplotlib.pyplot as plt\n",
    "from multiprocessing.pool import Pool\n",
    "import glob\n",
    "import scipy.io\n",
    "import numpy as np"
   ]
  },
  {
   "cell_type": "code",
   "execution_count": 2,
   "id": "683b6aa2-83c4-4234-93f9-4c31ccfd29a9",
   "metadata": {},
   "outputs": [],
   "source": [
    "def merge_cell_features(cell_name,check_metadata):\n",
    "    file_path = check_metadata.loc[cell_name,'file_path']\n",
    "    temp_mat_load = scipy.io.loadmat(file_path)\n",
    "    voltage = temp_mat_load['m_FP']['alldt'][0,0][0,0]\n",
    "    current = temp_mat_load['m_FP']['StiStep'][0,0][0]\n",
    "    time = np.arange(25000)/25000\n",
    "    curr_index_0 = temp_mat_load['m_FP']['curr_index_0'][0,0][0,0]\n",
    "    if len(current)!=voltage.shape[1]:\n",
    "        print('Attention!!! current length is not equal to voltage')\n",
    "        current = current[:voltage.shape[1]]\n",
    "    current_step =  temp_mat_load['m_FP']['stepCurr'][0,0][0,0]\n",
    "\n",
    "    filter_ = 10\n",
    "    if (1/time[1]-time[0]) < 20e3:\n",
    "        filter_ = (1/time[1]-time[0])/(1e3*2)-0.5\n",
    "    df, df_related_features = extract_spike_features(time, current, voltage)\n",
    "    Cell_Features = get_cell_features(df, df_related_features, time, current, voltage, curr_index_0)\n",
    "    plt.close()\n",
    "    Cell_Features.index = [cell_name]\n",
    "    Cell_Features.to_csv(f'temp/{cell_name}.csv')"
   ]
  },
  {
   "cell_type": "code",
   "execution_count": null,
   "id": "dea01187-0d57-44fa-b90c-2339753c727f",
   "metadata": {},
   "outputs": [],
   "source": [
    "if __name__ == '__main__':\n",
    "    all_passed_check = pd.read_csv('./all_cellCheck_metadata.csv',index_col=0)\n",
    "    for i in ['20200703PLIPS02C03']:\n",
    "        merge_cell_features(i,all_passed_check)"
   ]
  }
 ],
 "metadata": {
  "kernelspec": {
   "display_name": "Python 3 (ipykernel)",
   "language": "python",
   "name": "python3"
  },
  "language_info": {
   "codemirror_mode": {
    "name": "ipython",
    "version": 3
   },
   "file_extension": ".py",
   "mimetype": "text/x-python",
   "name": "python",
   "nbconvert_exporter": "python",
   "pygments_lexer": "ipython3",
   "version": "3.11.3"
  }
 },
 "nbformat": 4,
 "nbformat_minor": 5
}
